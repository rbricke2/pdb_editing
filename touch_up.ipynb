{
 "cells": [
  {
   "cell_type": "code",
   "execution_count": 12,
   "id": "4c45af34",
   "metadata": {},
   "outputs": [],
   "source": [
    "# get lines for new file\n",
    "atom_ID         = 1\n",
    "residue_new     = 0\n",
    "residue_tracker = \"\"\n",
    "new_pdb         = []\n",
    "proceed         = False\n",
    "with open(\"Cy2_AminoC2dT_residue_names_changed.pdb\", \"r\") as pdb:\n",
    "    for line in pdb:\n",
    "        write_line = line\n",
    "        line_split = line.split()\n",
    "        if line_split[0] == \"ATOM\":\n",
    "            residue = line_split[3]\n",
    "            proceed = True\n",
    "        elif line_split[0] == \"TER\":\n",
    "            residue = line_split[2]\n",
    "            proceed = True\n",
    "        if proceed:\n",
    "            if (residue_tracker != residue) or (\"P\" in line_split):\n",
    "                residue_new    += 1\n",
    "                residue_tracker = residue\n",
    "            list_line        = list(line)\n",
    "            atom_ID_char     = str(atom_ID)\n",
    "            list_line[6:11]  = atom_ID_char.rjust(5)\n",
    "            residue_char     = str(residue_new)\n",
    "            list_line[21:26] = residue_char.rjust(5)\n",
    "            write_line       = \"\".join(list_line)\n",
    "            atom_ID         += 1\n",
    "        new_pdb.append(write_line)\n",
    "        proceed = False\n",
    "\n",
    "with open(\"Cy2_AminoC2dT.pdb\", \"w+\") as pdb:\n",
    "    for line in new_pdb:\n",
    "        pdb.write(line)"
   ]
  },
  {
   "cell_type": "code",
   "execution_count": null,
   "id": "b6fc8079",
   "metadata": {},
   "outputs": [],
   "source": []
  }
 ],
 "metadata": {
  "kernelspec": {
   "display_name": "Python 3 (ipykernel)",
   "language": "python",
   "name": "python3"
  },
  "language_info": {
   "codemirror_mode": {
    "name": "ipython",
    "version": 3
   },
   "file_extension": ".py",
   "mimetype": "text/x-python",
   "name": "python",
   "nbconvert_exporter": "python",
   "pygments_lexer": "ipython3",
   "version": "3.10.12"
  }
 },
 "nbformat": 4,
 "nbformat_minor": 5
}
