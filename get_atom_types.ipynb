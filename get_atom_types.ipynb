{
 "cells": [
  {
   "cell_type": "code",
   "execution_count": 6,
   "id": "c0d1c5fa",
   "metadata": {},
   "outputs": [
    {
     "name": "stdout",
     "output_type": "stream",
     "text": [
      "CT N C O CT CT CT CT CT N* CB CB OS CA CA CA CA CA CD CD CD CA OS CB CB N* CA CA CA CA CT CT H HC HC HC HC HC HC HC HC H1 H1 H1 H1 HC HC HC H1 H1 H1 HA HA HA HA HA HA HA HA HA HA HA **** \n"
     ]
    }
   ],
   "source": [
    "atom_types = \"\"\n",
    "with open(\"Cy2_relaxed.mol2\") as mol2:\n",
    "    for line in mol2:\n",
    "        line_split = line.split()\n",
    "        if len(line_split) == 9:\n",
    "            atom_types += str(line_split[5]) + \" \"\n",
    "\n",
    "print(atom_types)"
   ]
  },
  {
   "cell_type": "code",
   "execution_count": null,
   "id": "21b7a846",
   "metadata": {},
   "outputs": [],
   "source": []
  }
 ],
 "metadata": {
  "kernelspec": {
   "display_name": "Python 3 (ipykernel)",
   "language": "python",
   "name": "python3"
  },
  "language_info": {
   "codemirror_mode": {
    "name": "ipython",
    "version": 3
   },
   "file_extension": ".py",
   "mimetype": "text/x-python",
   "name": "python",
   "nbconvert_exporter": "python",
   "pygments_lexer": "ipython3",
   "version": "3.10.12"
  }
 },
 "nbformat": 4,
 "nbformat_minor": 5
}
